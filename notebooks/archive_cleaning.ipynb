{
 "cells": [
  {
   "cell_type": "code",
   "execution_count": 58,
   "metadata": {},
   "outputs": [],
   "source": [
    "import pandas as pd\n",
    "import os"
   ]
  },
  {
   "cell_type": "code",
   "execution_count": 59,
   "metadata": {},
   "outputs": [
    {
     "name": "stdout",
     "output_type": "stream",
     "text": [
      "es  added to master df\n",
      "de  added to master df\n",
      "ja  added to master df\n",
      "fr  added to master df\n",
      "it  added to master df\n",
      "   source_id                    en  trans_id            ar  \\\n",
      "0       1276  Let's try something.    461821  لنجرب شيئاً!   \n",
      "1       1276  Let's try something.    461821  لنجرب شيئاً!   \n",
      "2       1276  Let's try something.    461821  لنجرب شيئاً!   \n",
      "3       1276  Let's try something.    461821  لنجرب شيئاً!   \n",
      "4       1276  Let's try something.    461821  لنجرب شيئاً!   \n",
      "\n",
      "                      es                              de   ja  \\\n",
      "0  Permíteme hacer algo.   Lasst uns etwas ausprobieren!  NaN   \n",
      "1  Permíteme hacer algo.   Lasst uns etwas ausprobieren!  NaN   \n",
      "2  Permíteme hacer algo.  Lass uns mal was ausprobieren.  NaN   \n",
      "3  Permíteme hacer algo.  Lass uns mal was ausprobieren.  NaN   \n",
      "4       Intentemos algo.   Lasst uns etwas ausprobieren!  NaN   \n",
      "\n",
      "                        fr   it  \n",
      "0  Tentons quelque chose !  NaN  \n",
      "1  Essayons quelque chose.  NaN  \n",
      "2  Tentons quelque chose !  NaN  \n",
      "3  Essayons quelque chose.  NaN  \n",
      "4  Tentons quelque chose !  NaN  \n"
     ]
    }
   ],
   "source": [
    "# Use arabic as master df, we will add the other languages to it\n",
    "master_df = pd.read_csv('../Archive/en-ar-tat.tsv', sep='\\t')\n",
    "master_df.columns=['source_id', 'en', 'trans_id', 'ar']\n",
    "\n",
    "for file in os.listdir('../Archive/'):\n",
    "    lang = file.split('-')[1]\n",
    "    if lang == 'ar':\n",
    "        continue\n",
    "\n",
    "    df = pd.read_csv(f'../Archive/{file}', sep='\\t', on_bad_lines='skip')\n",
    "    df.columns=['source_id', 'en', 'trans_id', lang]\n",
    "\n",
    "    master_df = master_df.merge(\n",
    "            df[['source_id', lang]], \n",
    "            on='source_id', \n",
    "            how='left',\n",
    "            suffixes=('', f'_{lang}')\n",
    "        )\n",
    "    print(lang, ' added to master df')\n",
    "\n",
    "print(master_df.head())\n",
    "\n"
   ]
  },
  {
   "cell_type": "markdown",
   "metadata": {},
   "source": [
    "Remove all rows with duplicate source IDs"
   ]
  },
  {
   "cell_type": "code",
   "execution_count": 60,
   "metadata": {},
   "outputs": [
    {
     "name": "stdout",
     "output_type": "stream",
     "text": [
      "     source_id                                                en  \\\n",
      "0         1276                              Let's try something.   \n",
      "8         1277                            I have to go to sleep.   \n",
      "200       1280  Today is June 18th and it is Muiriel's birthday!   \n",
      "236       1282                                Muiriel is 20 now.   \n",
      "252       1283                        The password is \"Muiriel\".   \n",
      "\n",
      "                                                    ar  \\\n",
      "0                                         لنجرب شيئاً!   \n",
      "8                                        عليّ أن أنام.   \n",
      "200  اليوم هو الثامن عشر من يونيو و هو عيد ميلاد مو...   \n",
      "236                       عمر ميوريل عشرون عاماً الآن.   \n",
      "252                              كلمة السر هي \"موريل\".   \n",
      "\n",
      "                                                    es  \\\n",
      "0                                Permíteme hacer algo.   \n",
      "8                             Tengo que irme a dormir.   \n",
      "200  ¡Hoy es 18 de junio y es el cumpleaños de Muir...   \n",
      "236                      Ahora, Muiriel tiene 20 años.   \n",
      "252                        La contraseña es \"Muiriel\".   \n",
      "\n",
      "                                                    de  \\\n",
      "0                        Lasst uns etwas ausprobieren!   \n",
      "8                             Ich muss jetzt schlafen.   \n",
      "200  Heute ist der 18. Juni und das ist der Geburts...   \n",
      "236                              Muiriel ist jetzt 20.   \n",
      "252                        Das Passwort ist \"Muiriel\".   \n",
      "\n",
      "                         ja  \\\n",
      "0                       NaN   \n",
      "8            私は眠らなければなりません。   \n",
      "200  今日は６月１８日で、ムーリエルの誕生日です！   \n",
      "236        ムーリエルは２０歳になりました。   \n",
      "252      パスワードは「Muiriel」です。   \n",
      "\n",
      "                                                    fr  \\\n",
      "0                              Tentons quelque chose !   \n",
      "8                                Je dois aller dormir.   \n",
      "200  Aujourd'hui nous sommes le 18 juin et c'est l'...   \n",
      "236                       Muiriel a 20 ans maintenant.   \n",
      "252                   Le mot de passe est « Muiriel ».   \n",
      "\n",
      "                                                    it  \n",
      "0                                                  NaN  \n",
      "8                               Devo andare a dormire.  \n",
      "200  Oggi è il 18 giugno ed è il compleanno di Muir...  \n",
      "236                         Muiriel ha 20 anni adesso.  \n",
      "252                   La parola d'accesso è \"Muiriel\".  \n"
     ]
    }
   ],
   "source": [
    "master_df = master_df.drop_duplicates(subset=['source_id'], keep='first')\n",
    "master_df.drop(columns=['trans_id'], inplace=True)\n",
    "\n",
    "print(master_df.head())\n",
    "\n"
   ]
  },
  {
   "cell_type": "code",
   "execution_count": 61,
   "metadata": {},
   "outputs": [
    {
     "name": "stdout",
     "output_type": "stream",
     "text": [
      "     source_id                                                en  \\\n",
      "0         1276                              Let's try something.   \n",
      "8         1277                            I have to go to sleep.   \n",
      "200       1280  Today is June 18th and it is Muiriel's birthday!   \n",
      "236       1282                                Muiriel is 20 now.   \n",
      "252       1283                        The password is \"Muiriel\".   \n",
      "\n",
      "                                                    ar  \\\n",
      "0                                    <ar> لنجرب شيئاً!   \n",
      "8                                   <ar> عليّ أن أنام.   \n",
      "200  <ar> اليوم هو الثامن عشر من يونيو و هو عيد ميل...   \n",
      "236                  <ar> عمر ميوريل عشرون عاماً الآن.   \n",
      "252                         <ar> كلمة السر هي \"موريل\".   \n",
      "\n",
      "                                                    es  \\\n",
      "0                           <es> Permíteme hacer algo.   \n",
      "8                        <es> Tengo que irme a dormir.   \n",
      "200  <es> ¡Hoy es 18 de junio y es el cumpleaños de...   \n",
      "236                 <es> Ahora, Muiriel tiene 20 años.   \n",
      "252                   <es> La contraseña es \"Muiriel\".   \n",
      "\n",
      "                                                    de  \\\n",
      "0                   <de> Lasst uns etwas ausprobieren!   \n",
      "8                        <de> Ich muss jetzt schlafen.   \n",
      "200  <de> Heute ist der 18. Juni und das ist der Ge...   \n",
      "236                         <de> Muiriel ist jetzt 20.   \n",
      "252                   <de> Das Passwort ist \"Muiriel\".   \n",
      "\n",
      "                              ja  \\\n",
      "0                       <ja> nan   \n",
      "8            <ja> 私は眠らなければなりません。   \n",
      "200  <ja> 今日は６月１８日で、ムーリエルの誕生日です！   \n",
      "236        <ja> ムーリエルは２０歳になりました。   \n",
      "252      <ja> パスワードは「Muiriel」です。   \n",
      "\n",
      "                                                    fr  \\\n",
      "0                         <fr> Tentons quelque chose !   \n",
      "8                           <fr> Je dois aller dormir.   \n",
      "200  <fr> Aujourd'hui nous sommes le 18 juin et c'e...   \n",
      "236                  <fr> Muiriel a 20 ans maintenant.   \n",
      "252              <fr> Le mot de passe est « Muiriel ».   \n",
      "\n",
      "                                                    it  \n",
      "0                                             <it> nan  \n",
      "8                          <it> Devo andare a dormire.  \n",
      "200  <it> Oggi è il 18 giugno ed è il compleanno di...  \n",
      "236                    <it> Muiriel ha 20 anni adesso.  \n",
      "252              <it> La parola d'accesso è \"Muiriel\".  \n"
     ]
    }
   ],
   "source": [
    "for column in master_df.columns:\n",
    "    if column not in ['source_id', 'en']:\n",
    "        master_df[column] = '<' + column + '> ' + master_df[column].astype(str)\n",
    "\n",
    "print(master_df.head())"
   ]
  },
  {
   "cell_type": "code",
   "execution_count": 64,
   "metadata": {},
   "outputs": [
    {
     "name": "stdout",
     "output_type": "stream",
     "text": [
      "                                                   en combined\n",
      "0                                Let's try something.         \n",
      "8                              I have to go to sleep.         \n",
      "200  Today is June 18th and it is Muiriel's birthday!         \n",
      "236                                Muiriel is 20 now.         \n",
      "252                        The password is \"Muiriel\".         \n"
     ]
    }
   ],
   "source": [
    "master_df['combined'] = master_df[master_df.columns[2:]].astype(str).agg(' '.join, axis=1)\n",
    "master_df = master_df[['en', 'combined']]\n",
    "\n",
    "print(master_df.head())\n",
    "\n",
    "master_df.to_csv('../data/tatoeba.csv', index=False)\n"
   ]
  }
 ],
 "metadata": {
  "kernelspec": {
   "display_name": "myenv",
   "language": "python",
   "name": "python3"
  },
  "language_info": {
   "codemirror_mode": {
    "name": "ipython",
    "version": 3
   },
   "file_extension": ".py",
   "mimetype": "text/x-python",
   "name": "python",
   "nbconvert_exporter": "python",
   "pygments_lexer": "ipython3",
   "version": "3.11.10"
  }
 },
 "nbformat": 4,
 "nbformat_minor": 2
}
