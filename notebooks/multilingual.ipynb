{
 "cells": [
  {
   "cell_type": "code",
   "execution_count": 3,
   "metadata": {},
   "outputs": [],
   "source": [
    "import pandas as pd\n",
    "import json\n",
    "import os"
   ]
  },
  {
   "cell_type": "code",
   "execution_count": 10,
   "metadata": {},
   "outputs": [
    {
     "data": {
      "text/plain": [
       "Index(['id', 'source_locale', 'target_locale', 'source', 'target', 'entities',\n",
       "       'from'],\n",
       "      dtype='object')"
      ]
     },
     "execution_count": 10,
     "metadata": {},
     "output_type": "execute_result"
    }
   ],
   "source": [
    "lang_files = {}\n",
    "for file in os.listdir('../data/train'):\n",
    "    try:\n",
    "        path = f'../data/train/{file}'\n",
    "        jsonObj = pd.read_json(path_or_buf=f'../data/train/{file}/train.jsonl', lines=True)\n",
    "        lang_files[file.split(\".\")[0]] = jsonObj\n",
    "    except Exception as e:\n",
    "        print(file, e)\n",
    "    \n",
    "\n",
    "\n",
    "lang_files['es'].columns\n",
    "\n"
   ]
  },
  {
   "cell_type": "markdown",
   "metadata": {},
   "source": [
    "Accepts a question id, a list of languages and returns if that ID is present in all"
   ]
  },
  {
   "cell_type": "code",
   "execution_count": 32,
   "metadata": {},
   "outputs": [
    {
     "name": "stdout",
     "output_type": "stream",
     "text": [
      "['f477742c', '650e81a3', '33ed28dd', '9508d042', '47feccd4', '4c5901ae', '375001ec', '3263c8a7', '7175a825', '0d9c0aba', '58706029', '4de034f6', '4df2564a', '5a7a384e', '5d65d703', 'fa08c557', '66e66d5d', '9bcc144a', '4001d7e5', '1cbe8494', '15a76dda', '93ce505b', '87b569b1', 'bad12250', '96a9bd38', 'e74425b1', '35575c6b', 'ecb7180c', '11e50432', '7f0edb54', '89b08063', 'a8927bb4', '0c5f2e78', '7d8a94d2', 'c2dd55fb', '76279f72', '930d8d06', '28f1de76', 'af75458f', '7cefb323', 'b8c86234', '4d2011f2', 'b739b77d', '61c45307', '00abdc69', '688d1821', '8f516b49', '9342d585', '74d115a2', 'b89144bf', 'cf0252e7', 'cef01d78', 'f50b5bd7', 'e0510724', '9e966d9e', '616f39aa', 'a82173d6', '624759b4', '66aea708', '2c202d72', '75af68f0', 'da180721', '85588ff9', '91639013', '7f2ffe2e', '2af2f393', '1bee86b8', 'c8bc3cee', 'efa5d49c', '6ec5541b', '3188dad1', '9cf856ba', '0314da0f', '3322edb3', '75474258', '8cd0f39b', 'c0a6a234', '67efb0d5', '995ab6eb', '5be7ad45', '7c46063e', '29166b5a', 'e6862885', '62425078', '0e4120cc', 'e00d11e5', '86388be1', '9796b8e8', '1b9bad08', '52be5ae6', '83b2bc6d', '659b8ac3', 'f70c44f8', 'bd59bb2b', 'da431607', '00d0e32e', '46cedd69', '2ee7114a', 'b379a919', 'be29d8d9', '928c90cc', 'b13e4877', 'af9cf15b', '20e9c0c4', '6e5e9053', '65586c25', 'f63bdba5', 'bcb1ddb7', 'aedf46bb', '18e0f459', 'dcf1fb06', 'fe3deb3d', '7bcf25a6', 'd920db8b', 'a5486d9b', '71a1d6a6', '0e05879f', 'e436ff05', 'f2dd901b', '38613685', '0020fd68', 'd848e237', '551d1c1f', '4721dca5', '1be2a0a9', '43f39483', '08551f49', '00a436aa', 'a2133be6', '3f08d4f6', 'f25c71b2', 'c3f7fcb9', '970062c6', '82393dea', 'a0bc72b0', '4cee6a0d', 'a9360d2a', 'd0068b09', '1954bd0c', '3de56673', '7f09d0ca', 'd9431730', '0a0600c3', 'b41213f2', '5b5fb2c3', '7bb24dd6', '1733d72b', '5270e80f', '95bb37b0', 'e2953651', 'd46627f9', '67f5e797', '825b2cb3', '70c4fe29', '2b7f3d78', 'fefb25b6', 'c769b5a7', '6116d31f', 'c9893c85', 'c76c7fe8', '30d42682', 'd27a5028', '389b422e', '6d79e58a', 'f46a2a65', 'f6523b5b', 'e843ecb8', 'b89f4687', 'd7fbc9a4', '42f1561e', '5edaa144', '7103db42', '24b98f72', '28d6ebbc', '593277bc', '9b45b657', '3e6f1cfe', '5cb29bd6', 'b9f5abd8', '7d1a59fe', 'ed13e74f', '14cf8ad2', '8fa47086', '16ea436d', '885563d0', 'c70a1c31', '14d27e5e', 'c55e8ecc', 'c20df6c7', 'f51d0881', '35172f2a', 'e5ec8134', '32ad641b', 'aeb799cc', 'af0da30b', '9c0211c3', '2f6689f8', 'dc978721', 'f85a3fff', 'c9b38d1b', 'a6bfd014', '18052190', 'd1da858e', '3ccb395a', '0b317685', 'db8b9ed5', '5bf1a59a', '51b4bcd6', 'd4f9aa73', 'bdb0981c', '78fab67a', '6edbab45', '992193b2', '54a6a113', 'fa94fd92', '21665ac5', '05a6592d', 'e6340cf2', '830c55ff', 'b0e6f3fb', '6c159cd2', 'bacb59ae', '4852b1b4', '5cd3c08e', 'c316fa98', 'a84836e1', 'cac2f2cd', 'b4cabde3', '14b9185d', 'dbc95087', '1a68b95a', '3904b977', '997c3674', '23760f7e', 'af73aa0a', '705fab98', 'd1d4fe87', '1b716aec', '34479900', '1a64dfa3', '1d304c46', 'fdc3c6d4', '53239e2f', 'fa1af2f7', 'e0f8c56d', '903b74bb', 'b198c29e', 'bfdfde0d', '6cdf80c2', 'bcd7320d', '7736625d', '234a6bb9', '2b795cbb', '9b586b9c', '8bcefdd2', '4206582b', 'e075b72f', 'f9fac113', 'd4274c11', 'd850de12', '0ea61937', 'cb358143', 'c6451084', '26204e22', 'c3c204ca', '9cf9fffd', '097bdae8', '86d476b2', '47e37ab8', 'bc580634', '310409f0', '2d19c0c3', '79642aeb', '892133af', 'c116348a', 'a7b56e6c', '01e44153', 'aae0225d', '5362eb29', '559fa681', '07527acb', '8324d43a', '70974d8e', '4d171c70', '33e5fe56', 'f448e4bd', '2aa22eb6', 'fbdcdd16', '7c153375', '1e03b520', '7d284bf9', '0609f058', 'bf7e936c', 'c78c8e96', '238de8cd', 'a4c21095', '905ddf82', '0eb83ec6', '9ba443d5', 'bcde67bb', '7324094f', '489e4385', '34130508', '401ed50e', '40abdff7', '457e360f', 'ccd9cdff', '7bee8924', '38a8550a', '54333d69', '40101b9a', '558d5a4a', '8a2b2426', '8910dafd', 'b07c417b', 'ecc80a6a', '1420b12f', '3ed247d9', 'd08007a7', '96f0f39c', 'badad24a', 'c4b6930a', 'bb713c79', '7aeb8471', 'd175d8ca', '9874a047', '358b0a1a', 'e3a4d2cd', '217a526d', 'd70baaf2', '3927a2ed', '29099f6c', '3039db1d', '19d4cd08', '74d3cd1b', '48a1cee8', '529a08c0', 'd6c781ff', '19f43d2b', '5af60224', '16c4703e', '83256e1e', '85f98536', 'df709bc9', 'cf6c17ef', '2b619bb6', 'a504cf35', 'ffea9820', 'fe1ddf66', '145dee0f', 'fcf2bb15', '30719db8', '28f0db9b', '233f1635', 'a88d72fd', 'b6218360', '299a4c54', '2dea0973', '167f3b99', '750c7621', '9b827c89', '1719342b', 'faf70747', 'e9ca81ed', 'd3e7e19b', '854c2de7', '69104f9d', '294fe4ad', 'f1e17a1d', 'e2f38df9', 'a5fe1c6f', '94c0b45c', '3ebdafa4', '5c2702e0', '422b1b97', 'bbde93c5', 'b2d8d95b', 'd6acdf00', 'ab6c0edc', 'f3484873', 'cf4e926c', '3d7fe2a3', '3d6fa02d', '4fccaa7f', 'a62ba1cd', 'c72a4be3', 'c0cb58e7', 'dfb0e939', 'fe02d7f4', 'ffd6afdc', 'c11cd8a0', 'c782d153', 'be381f7f', 'e540e66d', '1a2a8ea5', 'e1e3808a', '79c4b6fc', 'd9f032c4', '03939df1', '9c91d85a', '596197e0', 'ad350cf5', '6668e467', '7f54d699', '5018f654', 'ee5c034b', 'dec9aa31', '791a7055', '9b591c4b', '51933b24', '0d9b5596', '283f60e6', '08a14756', '82a89c4b', '80a12e93', '5db3a0e1', '9078fd23', 'f3351d96', '21b388a4', '36406773', '1619e4d6', 'b234f132', '7b0b7062', '956cae16', 'd20b57cc', 'ad209e42', '344d5b5d', '25a4e4b5', 'a26f7f2a', 'ca6bc39a', 'cc3037c7', 'f8fa3e88', '54330901', '21dd5aec', '494fd927', '2f138377', '2b3c4ae3', 'd027426b', 'f2cf7cec', 'ba5ce04d', '8ae65529', '79395e64', 'a5c83963', '7baab5d2', '00a5d728', '1b70e707', '0465ea62', '657d131a', '18d7dd81', '76027ffa', 'dc511c98', 'a7aadef7', '65339a8a', '840c9eef', 'deaf829e', '512423c9', '6d871fd6', '1f1f5b58', '1670507e', '3a119d11', 'dd65aeac', 'f91b20e7', 'fba83ea0', '1aeeb334', 'd6256589', '2c904db9', 'fe2a5bf2', 'c51668a2', '8be1ab7c', 'ccf98707', 'c8a466ce', '098fa6a9', 'aeb34e5c', 'a820614c', 'ed786039', '27c444ef', '17edc88c', '2b34c25e', '76551b49', '0f58fc5c', '8e5d9a5e', '7bcae3ef', 'c93ecf51', 'ff3b76df', '4754c272', '71f369bd', '14bf8620', '0103023e', '8c0193b5', '5ecc32bd', '5bb78caa', '0bf66022', '61e19638', '8127523b', '35b3211e', '4f9c1eef', 'e071e85e', '28bf1fb5', '8400c4db', '2d0c7738', '31339a3c', 'c7dc6254', '76f8bf6d', 'c4461fb3', '6fc1dd16', '9905840a', '59d86e55', '8e7e888a', '4772c4fd', '7c4cbc13', '6eca6bf6', 'b1593cf7', '42cfa4ab', '2315bd15', '5138b868', 'e5f1af89', '7bc007c1', '006748ac', 'dee7a7e4', '58fc9c56', '750fb2a3', '95259970', 'a4369c37', '3844b98e', 'bd22b953', 'f64b9cb3', '2955c588', '5134adc9', '93736bd2', '4bfdbde2', '5331625d', '575f43d0', '663eae85', '0858b416', '5f5988f7', 'b286538e', '29d430fe', '661a6cf0', '13677ece', '9d7556e6', 'c21432bf', '0658ffc6', '08adb70f', 'b206f6da', 'c3066160', 'd474ca5b', '9cf4b2ae', '284deba9', 'd2362aad', '5147b841', '3b05f1bd', '00ba1049', '10df894b', '2e12b6be', '734680c4', '6a7b71a9', 'ad694863', 'c9195ecb', 'dc78316c', '41466285', '80cfed07', '32be4b89', '2aac49ec', 'e5a0c40f', '47a989d4', '08d09f16', '09beb34e', '7daa3f48', 'b7b3b159', '7ff91dd1', '47d34efe', '96a7a393', '26a2b90c', '6f01186a', '3bb14d10', 'e673de3c', '03afe570', '6ff50d6d', '12cdebe8', 'e3e6abe1', '056c7db5', '203069e0', 'f05601a3', '22a7bf99', '238062bb', 'e43702ad', '3b3efb9c', 'd7e9abf0', 'b29a62af', '5538570e', 'e272b297', '9c172527', '5054be2d', 'b3530e02', 'a398bb9e', 'ac5a3a1c', '25253472', 'c4997309', '5a121a9a', 'bac890af', 'f2d7db77', '5ca31aef', 'f8bd7ead', 'af10997c', '33304a97', '52a60002', '94634e60', 'a3ac552a', '0da2c1c5', '83ceaf01', '62db3e8b', '80322d1b', '0bc9b304', 'effe50ba', '2f317f57', 'abc5fecd', '82684175', '51a1a924', 'fea4ae15', '0d3e8130', 'cb1c7174', '1dec5c53', '61b6d561', '5bb71a2e', '336fc84b', '176b1a11', '49f795b5', '08dce203', '16dd1b77', '2f806991', '410c6d19', '49f350d8', '395b190e', '94defa03', 'a44b1ad2', '6e5c8561', '437cbdbf', '09296c40', 'f4b680d4', 'a0fc682a', '4ca9272a', '8020c87a', 'c1b62eed', '1ffea70d', 'ab23a7cd', 'fb89c2b7', '0679fd20', '3590dd4e', '9fa0604d', '10f0085c', '788f2988', 'affab0cd', '43678d3f', '47bcf114', '80d721cc', '60bd0f28', '65796545', '36ccfa24', '13508c00', 'be0c4040', '204f1126', '9896653c', '3b66ab40', '7ee0de9f', 'b24edbc2', 'd17009f7', '0809e5b7', 'b9368341', 'e7be321d', '1a5a59c1', 'bc915226', '1246e373', '7836c9bd', 'd04f1104', 'a4990131', '99be8554', '7fa8a777', '642abacc', '2075a898', '144ffb11', 'cb66e96b', '1f4fbf6a', '61243433', '27820b49', 'e96d6306', '9a456ec4', 'a16281e5', '167c21be', '88809653', 'f87a28b4', '37b8ae66', '263bbec8', '48844651', 'bc1731d7', '194ab42c', '06bb5864', 'd121b432', 'ab042b52', 'cc087126', '467ac936', 'a7afad33', 'd61826dc', 'e25b91db', 'a9664c5c', '0cfebac3', '6e92e55e', 'f19a4aec', '91465ad9', '448888db', '1241c152', 'cf161d04', '7357f044', '9422b507', '66ffbed2', '74b3c0ee', 'c17650e5', '30fe2792', '2ab4ffe7', 'dc39bb17', 'da15c05f', 'f446a5b2', '8cf65676', 'c0e16085', 'cb45cca5', 'bb189d18', '70424242', '239a0b82', '8f41ec79', '140e20e9', '0d6a8494', 'ab11f5d2', '208ff033', 'd7642c02', '3a8e94f4', '362da8cb', '2d34d7d8', '4cbd9d22', '8766997a', '114c5a32', '61dd9126', 'c223d820', '1725df9b', '8eeb3b9b', 'f0224326', '601a806e', '4b6cd782', 'fc21bd85', '7c408534', 'ca2920b3', '66d9ba74', '55e7694a', 'cee160e9', '053265c6', 'f8613ef0', 'ea14ae3d', 'eb8435f8', '5ba85387', '816aec09', '932c6f20', '6d7e5b07', 'f2befc75', '3bcae0ba', '1901eb73', 'b777e915', 'b997c050', 'd6744dfe', '9f2b3823', '5f248a38', '1059b5ef', 'a2970b85', '74801764', '4cb9e7e4', 'cdfc3f93', '8d354b9a', '36f49b12', '4c66873f', 'dbcc631e', '45adeaf7', '17faf251', 'f61d0df9', 'aab6501c', '1da15e89', 'a9d76f10', '4492a044', 'c143e558', '044973bb', 'b7eefc7a', '739c7ef1', '97b83673', '2f4867c6', '0bbbdb96', 'e2dc17e0', '207114fb', 'c16e5601', 'e293e18e', 'ff86bf58', '989ea750', 'c3cb8f6c', '48fd581f', 'd70c89bc', 'a99d042b', 'c70ec1f7', '1c62e550', '42f8a972', '39f5b963', 'ed48af64', 'e3e7105d', '5dc48009', 'fee3dec6', 'cbdf1865', '25611b45', 'c0e38f61', '080821ee', 'b3993283', '7a92f5fe', 'f2df0229', '2e86ee5f', 'ba0b3373', '734006a7', '5cbd4e80', 'e90b7a40', '61fb6e73', '419c437b', 'e3830c61', 'c7db7448', '6f41e0ad', 'd51761ce', 'ebc7c3f7', '9ec50e04', '8ae70e84', 'f52de081', '81a30142', '51cc6fd8', 'c2f44050', '21a54b90', '72a8a350', 'a6482776', 'f79ec1f0', '22d1d39b', '178556ff', 'f26e2f81', 'fbca9326', '329dde7d', '76e02be0', 'e0b30737', '83b94a45', 'c80b116a', 'e9250dbc', '3b51fa00', '2fd59229', 'a2aad11e', 'da243cc3', '7298db7a', '83ba2958', 'f565206f', 'eacc1d60', '40211af7', '83884b77', 'd3a510c0', 'b01fed3f', 'f181ab1c', 'd803cc78', '078b8657', '1f1a876a', 'd811f121', 'b727b3ab', '2a5cdbcf', '9bb5005a', '9a7aac72', '62eae50c', '5e6471a7', '6554cf15', '2fcbd091', '6c83ae79', 'c0918696', 'c9c10f6c', '6735ddd5', 'd10f2e67', '4a9c7feb', 'b0f04193', 'a64bf8c0', 'ca3b6593', '53c7ac0e', 'de97f7f7', '4ae6264e', 'acbeb43b', 'fadae148', '1e27945a', '9cf187ff', 'ba1a6761', 'f574ffa0', '808b947d', '1b441c40', 'dd49c33f', 'a5a886ce', '68663141', '8345d8e2', '6db073c6', '1511bac5', '504920e3', '7ddecaa9', 'af48f8b9', '0046f8f9', '702765d3', 'ccafcc8d', '943a4d3b', '63a991fc', '1c9b79af', 'c6ecb19e', '1552abe2', 'acf4bdaa', '2fc6de9d', '7000d824', '93b847df', 'b774c4dd', '25d7a02f', '1a3a6374', '63f1f52a', '2f117794', '5d31d81e', 'cd4e4e9a', '644abf9c', 'ea5b95af', 'ee52124e', '9f4b2050', 'f714a74a', 'd8445fc3', 'ce21c850', '68fa4cda', '28f75147', '155ddfb0', '4e989288', '34b30f70', '558be8e9', 'a32ef2f8', '8900c412', 'fc88af00', 'cc815af7', '9f1dc301', '4f9bddde', 'bd3a7d9a', '97be38c6', 'd131931b', 'dd945bc0', '26b65c8b', '8259b907', 'a36ce8d9', '1d3805fa', 'a6466af0', 'bebb4204', 'ac3f40b6', '8db29866', 'fc1b766e', '28bf501e', 'bfbd5e8b', '61e80610', '0db78efa', '05128a46', 'fb544ce5', '903c35f6', '64086df8', '4e223976', '697d28d3', '27f2db57', '749f71ae', 'e4b5f505', '1d1edbde', 'c8e45231', 'c287fcbf', '5a09e296', '0d727eb7', 'dfdb2512', '994837ff', '38243543', 'b29e1c05', '32911ec8', '8fe24145', '0120f1f9', '936b9eaa', '0ac0ec15', '16ad69f1', '1be92c3d', 'aac3db1e', '90d1921f', '08a7c74e', '537ad5f6', '4540a215', '78655c6f', '1fdff125', '08df5b3f', '16b36c0a', 'f0e20673', 'bf004dc8', '43acecc1', '9738ab40', 'd74223d1', '78607e72', '31b9cd3a', 'f341215d', '3c35afc8', 'ef83bef5', 'caaa0201', '2b02a225', 'a192dac7', '41507bb4', 'a5625a18', 'bdbd1ae7', '56bc050c', '76630d05', 'c139c375', 'd444c062', 'fec67078', '1ba6e4ea', '5b907bab', '4fead6c5', '3b664238', '6687d043', 'f1be9d65', '138df71c', '71a173fc', '66832edc', '6e9d000b', 'dab5d428', '08c9466b', '138c950d', '31ccb6df', '9a46a2e8', '076cfd10', 'dcb1cd6f', '102482b4', 'bf3ebfa2', '6084f6b6', 'df281443', '01489f74', '2bcb037b', 'f3fa6401', 'ebc9b970', 'b006c0c0', '2bc42b56', 'c27b34bd', '736b4e7d', 'a97ae9d4', 'ea9c2e3b', '11dae2e7', '718e7ac2', 'fd1d5f97', 'e9a21d63', '3159e835', 'ebca5ba9', '4b937ec3', 'b7ccd8f4', '91d74ce8', '9ba2150a', '7b9bf2af', '68896e4d', 'd43b2ef6', '6d76b6d2', '672fe686', '001ae831', 'a59e9377', 'b7d9eea1', '0c12ab9b', 'ff2fd46f', '983c8363', 'fafb60d7', '301f5f5e', '8d01bac5', '562efa7f', 'f01e2309', 'e5d08ba5', '35cd9b74', 'c143ebd3', 'a97a7c48', 'e5b27973', 'fb0895d8', '63a1cc6c', '9d65be95', '440191d2', '71a18e1d', '216845e3', '9c962942', 'd141e7b3', '6c58becc', 'a9f45b8e', 'dd3f2ee9', '300ddc76', '445cc0da', '78b8012a', 'b93731b4', '8f7b9b53', 'bb78fd6e', '11c1e82d', '0f138360', '2e0b4d3c', 'e527e00b', 'a8808c07', 'e2f206f0', '7d4531cc', '7f368fa5', '826528e6', '4ad6bafd', 'b44df782', 'be1ddb92', 'a7ef499a', '6be2b234', '4d455465', '1a231cf4', 'a3499bf7', 'c41df4c7', '25002e3b', '92848dd1', 'abca3e36', 'b69991e0', '190ae2cd', 'beb3d66b', 'fbd7b0c8', '0cb2d25a', '99dbd28d', '7294fb16', '1b40d411', 'f845bb2e', 'e164dd0c', '05aacb9b', '93c8a2e4', 'ae649eaa', '2023362f', '3a8dabec', 'c4dc35f4', '0afe4b48', '1bee44e0', '12b61a43', 'ea1ca99e', '56ef7c69', '8c416c8a', 'ebb94cdf', '51d0d3b4', '2b9e0b50', 'bc5da5fd', '1ee8e40c', '08edb947', '58defa81', '56d7a998', 'ef2498b1', 'eef2eca2', '623e92ad', '622a14dc', 'b1251903', 'abd06c74', '70eb3528', '38f9f3e2', '91aafc2f', 'a7391b67', '87d9f145', 'cf143226', 'e6bb3db5', '3f0bc8bf', '506268f5', '639418bb', 'a35e080e', 'dc47b329', '73c9d3d3', 'e2300ecd', '668fb3b3', '5f7ee9d3', '2921c5ba', 'd4f801a4', '2c886c3f', '3cbb075c', 'a77697a5', '4ef41c12', '4e056cb6', '0ab809a9', '823d7491', '5c2262bc', '9993a79b', 'cc3b5f9b', '68476342', 'd52b3123', 'd0c4859c', '8067a1a6', '9a95b4b5', 'e75c4a1d', '2b2c4f25', '9afa8edd', '6f29b33b', '5cb74025', '6e13af7b', 'c76aee80', '1843b3b2', '7927c302', '8d2061ba', 'c4f48ff0', 'fd3972cd', '777b0005', '1bfa062e', 'f5b6d44c', 'ebe5ecfe', 'e258ffa9', '350240e4', 'ead5d2b4', 'bef619b6', '88ccdd18', '61124b60', 'c781fe23', '169af776', '2ba64f93', '79ea6d48', '54ca06ca', '42c55b4e', '573b65fc', '2cc1a1f6', '6b8156db', '3204a909', '6ab1f2a0', '04996b24', '828e7ac4', 'd258138c', '87634cfa', 'da029f54', '61eb1e66', '50f6a65d', 'e6f29b34', '5184a7a6', '890418d9', '047337be', '12b557a7', '7fa54167', 'b18eaaad', '136c7102', '163f7d4b', 'b062461c', 'ec83e250', '405b7f13', 'e00c8284', 'ec497230', 'd8c4cbef', '416b9a99', '3af374d9', 'bcb90108', 'c8d1aa70', '8547ee1a', '1c6c85f3', '2f18c5c8', 'd8341532', 'f2a5e854', 'dc5887f1', '7fc55fcb', 'faa55580', 'd31fa2e2', '9487497b', '2997bb97', '85a150fa', '93896abe', 'c5aab9d3', '348e9b67', 'e7568709', 'ef769c57', '95d9e9a2', 'a7d68d47']\n",
      "1259\n"
     ]
    }
   ],
   "source": [
    "multilingual_df = pd.DataFrame(columns=['q_id', 'en', 'ar', 'de', 'es', 'fr', 'it', 'ja'])\n",
    "langs = ['ar', 'de', 'es', 'fr', 'it', 'ja']\n",
    "ids_in_all = []\n",
    "\n",
    "def id_in_all(question_id:str, languages:list=langs, exists_in_all:bool=True, write:bool=False):\n",
    "    for lang in languages:\n",
    "        if question_id not in lang_files[lang].id.values:\n",
    "            exists_in_all = False\n",
    "\n",
    "        if write==True:\n",
    "\n",
    "\n",
    "            for lang in languages:\n",
    "                \n",
    "\n",
    "for id in lang_files['es'].id.values:\n",
    "    if id_in_all(id):\n",
    "        row = \n",
    "        new_row = {'id': 4, 'source': 'D'}\n",
    "\n",
    "\n",
    "\n",
    "print(ids_in_all)\n",
    "print(len(ids_in_all))"
   ]
  }
 ],
 "metadata": {
  "kernelspec": {
   "display_name": "myenv",
   "language": "python",
   "name": "python3"
  },
  "language_info": {
   "codemirror_mode": {
    "name": "ipython",
    "version": 3
   },
   "file_extension": ".py",
   "mimetype": "text/x-python",
   "name": "python",
   "nbconvert_exporter": "python",
   "pygments_lexer": "ipython3",
   "version": "3.11.10"
  }
 },
 "nbformat": 4,
 "nbformat_minor": 2
}
