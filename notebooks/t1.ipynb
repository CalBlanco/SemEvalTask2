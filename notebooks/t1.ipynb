{
 "cells": [
  {
   "cell_type": "code",
   "execution_count": 23,
   "metadata": {},
   "outputs": [],
   "source": [
    "import requests as r\n",
    "from bs4 import BeautifulSoup"
   ]
  },
  {
   "cell_type": "markdown",
   "metadata": {},
   "source": [
    "### Getting translations from wiki-data based on ids and desired translations"
   ]
  },
  {
   "cell_type": "code",
   "execution_count": 52,
   "metadata": {},
   "outputs": [],
   "source": [
    "import json\n",
    "\n",
    "'''Simple function for getting json (not really needed anymore)'''\n",
    "def get_json(wiki_id):\n",
    "    req = r.get(f'https://www.wikidata.org/wiki/Special:EntityData/{wiki_id}.json')\n",
    "\n",
    "    j = json.loads(req.text)\n",
    "\n",
    "    return j\n",
    "\n",
    "\n",
    "'''Take in a wiki id, and an optional list of desired translations(must match language names)\n",
    "    return a dictionary containing translations\n",
    "    if no desired translations are passed returns all translations\n",
    "'''\n",
    "def get_translations_from_id(wiki_id:str, desired_translations: list = None):\n",
    "        req = r.get(f'https://www.wikidata.org/wiki/Special:EntityData/{wiki_id}.json')\n",
    "\n",
    "        j = json.loads(req.text)\n",
    "        \n",
    "        if desired_translations:\n",
    "            out_ = {}\n",
    "            for translation in desired_translations:\n",
    "                try:\n",
    "                    out_[translation] = j['entities'][wiki_id]['labels'][translation]\n",
    "                except:\n",
    "                    print(f\"Encountered error retrieving {translation}\")\n",
    "        else:\n",
    "            return j['entities'][wiki_id]['labels']\n",
    "\n",
    "\n",
    "        return out_ \n",
    "            \n"
   ]
  },
  {
   "cell_type": "code",
   "execution_count": 50,
   "metadata": {},
   "outputs": [
    {
     "data": {
      "text/plain": [
       "{'fr': 'Little Women', 'de': 'Little Women', 'th': 'สามพี่น้อง'}"
      ]
     },
     "execution_count": 50,
     "metadata": {},
     "output_type": "execute_result"
    }
   ],
   "source": [
    "#getting specific translations \n",
    "es = get_translations_from_id(\"Q110246392\", ['fr', 'de', 'th'])\n",
    "es"
   ]
  },
  {
   "cell_type": "code",
   "execution_count": 51,
   "metadata": {},
   "outputs": [
    {
     "data": {
      "text/plain": [
       "{'en': {'language': 'en', 'value': 'Little Women'},\n",
       " 'ar': {'language': 'ar', 'value': 'نساء صغيرات'},\n",
       " 'id': {'language': 'id', 'value': 'Little Women'},\n",
       " 'ko': {'language': 'ko', 'value': '작은 아씨들'},\n",
       " 'es': {'language': 'es', 'value': 'Las hermanas'},\n",
       " 'zh': {'language': 'zh', 'value': '小女子'},\n",
       " 'vi': {'language': 'vi', 'value': 'Little Women'},\n",
       " 'ja': {'language': 'ja', 'value': '新・若草物語'},\n",
       " 'fa': {'language': 'fa', 'value': 'زنان کوچک'},\n",
       " 'ms': {'language': 'ms', 'value': 'Little Women'},\n",
       " 'ru': {'language': 'ru', 'value': 'Маленькие женщины'},\n",
       " 'zh-tw': {'language': 'zh-tw', 'value': '小女子'},\n",
       " 'fr': {'language': 'fr', 'value': 'Little Women'},\n",
       " 'de': {'language': 'de', 'value': 'Little Women'},\n",
       " 'th': {'language': 'th', 'value': 'สามพี่น้อง'},\n",
       " 'uz': {'language': 'uz', 'value': 'Little Women'},\n",
       " 'it': {'language': 'it', 'value': 'Piccole donne'},\n",
       " 'zh-hans': {'language': 'zh-hans', 'value': '小女子'}}"
      ]
     },
     "execution_count": 51,
     "metadata": {},
     "output_type": "execute_result"
    }
   ],
   "source": [
    "#getting all translations\n",
    "all_of_em = get_translations_from_id(\"Q110246392\")\n",
    "all_of_em"
   ]
  },
  {
   "cell_type": "markdown",
   "metadata": {},
   "source": [
    "### Query for multiple items at once\n",
    "\n",
    "> this does not save resources only makes it easier on our end\n",
    "> Potentially want to look into a better way to reduce requests sent to wikidata"
   ]
  },
  {
   "cell_type": "code",
   "execution_count": 41,
   "metadata": {},
   "outputs": [],
   "source": [
    "'''Function to query for multiple wiki-id translations at once'''\n",
    "def aggregate_multiple(wiki_ids: list[str], translations: list[str]=None):\n",
    "    out_ = {}\n",
    "    for wiki_id in wiki_ids:\n",
    "        try:\n",
    "            t_out_ = get_translations_from_id(wiki_id, translations)\n",
    "            out_[wiki_id] = t_out_\n",
    "        except Exception as e:\n",
    "            print(f\"Unable to get translations for {wiki_id}\\n{e}\")\n",
    "\n",
    "    return out_\n"
   ]
  },
  {
   "cell_type": "code",
   "execution_count": 45,
   "metadata": {},
   "outputs": [
    {
     "name": "stdout",
     "output_type": "stream",
     "text": [
      "Encountered error retrieving ru\n"
     ]
    },
    {
     "data": {
      "text/plain": [
       "{'Q110246392': {'it': {'language': 'it', 'value': 'Piccole donne'},\n",
       "  'fr': {'language': 'fr', 'value': 'Little Women'},\n",
       "  'ru': {'language': 'ru', 'value': 'Маленькие женщины'},\n",
       "  'ja': {'language': 'ja', 'value': '新・若草物語'}},\n",
       " 'Q910656': {'it': {'language': 'it', 'value': 'olio di neem'},\n",
       "  'fr': {'language': 'fr', 'value': 'Huile de neem'},\n",
       "  'ja': {'language': 'ja', 'value': 'ニームオイル'}},\n",
       " 'Q733195': {'it': {'language': 'it', 'value': 'Repubblica Galattica'},\n",
       "  'fr': {'language': 'fr', 'value': 'République galactique'},\n",
       "  'ru': {'language': 'ru', 'value': 'Галактическая Республика'},\n",
       "  'ja': {'language': 'ja', 'value': '銀河共和国'}}}"
      ]
     },
     "execution_count": 45,
     "metadata": {},
     "output_type": "execute_result"
    }
   ],
   "source": [
    "t = aggregate_multiple([\"Q110246392\", \"Q910656\", \"Q733195\"], ['it', 'fr', 'ru', 'ja'])\n",
    "t"
   ]
  },
  {
   "cell_type": "code",
   "execution_count": 38,
   "metadata": {},
   "outputs": [],
   "source": [
    "t"
   ]
  },
  {
   "cell_type": "markdown",
   "metadata": {},
   "source": [
    "### Getting Ids from string queries\n",
    "\n",
    "> will return first result if it finds it as the answer (not neccisarily true)"
   ]
  },
  {
   "cell_type": "code",
   "execution_count": 66,
   "metadata": {},
   "outputs": [],
   "source": [
    "# Now need to find a good way to query / find the ids from a name\n",
    "#  (ID is also provided via training data but it might not hurt to have this feature)\n",
    "from bs4 import BeautifulSoup\n",
    "import urllib.parse\n",
    "\n",
    "'''Function to attempt to get a wiki id from a string name (throws exceptions if unable to find a first result)\n",
    "    Naively returns the first result as the \"interpreted\" \n",
    "'''\n",
    "def query_for_id(name: str):\n",
    "    encoded = urllib.parse.urlencode({\"search\": name})\n",
    "    req = r.get(f'https://www.wikidata.org/w/index.php?{encoded}')\n",
    "\n",
    "    \n",
    "\n",
    "    try:\n",
    "        soup = BeautifulSoup(req.text, 'html.parser')\n",
    "        result = soup.find('div', class_=\"mw-search-result-heading\")\n",
    "        link = result.find('a')\n",
    "        return link['href'].split(\"/\")[2]\n",
    "        \n",
    "    except Exception as e:\n",
    "        print(f\"Encountered : {e}\\n\\t when querying for {name}\")"
   ]
  },
  {
   "cell_type": "code",
   "execution_count": 67,
   "metadata": {},
   "outputs": [
    {
     "data": {
      "text/plain": [
       "'Q733195'"
      ]
     },
     "execution_count": 67,
     "metadata": {},
     "output_type": "execute_result"
    }
   ],
   "source": [
    "query_for_id(\"Galactic Republic\")"
   ]
  }
 ],
 "metadata": {
  "kernelspec": {
   "display_name": "venv",
   "language": "python",
   "name": "python3"
  },
  "language_info": {
   "codemirror_mode": {
    "name": "ipython",
    "version": 3
   },
   "file_extension": ".py",
   "mimetype": "text/x-python",
   "name": "python",
   "nbconvert_exporter": "python",
   "pygments_lexer": "ipython3",
   "version": "3.11.10"
  }
 },
 "nbformat": 4,
 "nbformat_minor": 2
}
