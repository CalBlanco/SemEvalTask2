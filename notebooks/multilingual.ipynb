{
 "cells": [
  {
   "cell_type": "code",
   "execution_count": 81,
   "metadata": {},
   "outputs": [],
   "source": [
    "import pandas as pd\n",
    "import json\n",
    "import os"
   ]
  },
  {
   "cell_type": "code",
   "execution_count": 82,
   "metadata": {},
   "outputs": [
    {
     "data": {
      "text/plain": [
       "Index(['id', 'source_locale', 'target_locale', 'source', 'target', 'entities',\n",
       "       'from'],\n",
       "      dtype='object')"
      ]
     },
     "execution_count": 82,
     "metadata": {},
     "output_type": "execute_result"
    }
   ],
   "source": [
    "lang_files = {}\n",
    "for file in os.listdir('../data/train'):\n",
    "    try:\n",
    "        path = f'../data/train/{file}'\n",
    "        jsonObj = pd.read_json(path_or_buf=f'../data/train/{file}/train.jsonl', lines=True)\n",
    "        lang_files[file.split(\".\")[0]] = jsonObj\n",
    "    except Exception as e:\n",
    "        print(file, e)\n",
    "    \n",
    "\n",
    "\n",
    "lang_files['es'].columns\n",
    "\n"
   ]
  },
  {
   "cell_type": "markdown",
   "metadata": {},
   "source": [
    "Accepts a question id, a list of languages and returns if that ID is present in all"
   ]
  },
  {
   "cell_type": "code",
   "execution_count": 83,
   "metadata": {},
   "outputs": [
    {
     "name": "stdout",
     "output_type": "stream",
     "text": [
      "       q_id                                                 en  \\\n",
      "0  f477742c  Which actor was Stephenie Meyer's first choice...   \n",
      "1  650e81a3             What is the longest lake in the world?   \n",
      "2  33ed28dd  Who was a member of the 2004 U.S. Olympic men'...   \n",
      "3  9508d042  How many Pulitzer Prizes has Colson Whitehead ...   \n",
      "4  47feccd4  Which movie had a higher lifetime gross, Juras...   \n",
      "\n",
      "                                                  ar  \\\n",
      "0   <ar> مَن الممثل الذي وقع عليه الاختيار الأول ...   \n",
      "1                      <ar> ما أطول بحيرة في العالم؟   \n",
      "2   <ar> مَن كان عضوًا في فريق الولايات المتحدة ا...   \n",
      "3   <ar> كم عدد جوائز \"البوليتزر\" التي فاز بها كو...   \n",
      "4   <ar> أي فيلم حصل على إيرادات أعلى طول الحياة،...   \n",
      "\n",
      "                                                  de  \\\n",
      "0   <de> Welcher Schauspieler war Stephanie Meyer...   \n",
      "1         <de> Welcher See ist der längste der Welt?   \n",
      "2   <de> Wer gehörte 2004 zur olympischen, Schwim...   \n",
      "3   <de> Wie viele Pulitzer-Preise gewann Colson ...   \n",
      "4   <de> Welcher Film hatte ein höheres Einspiele...   \n",
      "\n",
      "                                                  es  \\\n",
      "0   <es> ¿Qué actor fue la primera opción de Step...   \n",
      "1         <es> ¿Cuál es el lago más largo del mundo?   \n",
      "2   <es> ¿Quién fue miembro del equipo olímpico d...   \n",
      "3   <es> ¿Cuántos premios Pulitzer ha ganado Cols...   \n",
      "4   <es> ¿Qué película tuvo mayor recaudación: Mu...   \n",
      "\n",
      "                                                  fr  \\\n",
      "0   <fr> Quel acteur Stephanie Meyer a-t-elle cho...   \n",
      "1       <fr> Quel est le lac le plus long du monde ?   \n",
      "2   <fr> Quel membre de l’équipe olympique mascul...   \n",
      "3   <fr> De combien de prix Pulitzer Colson White...   \n",
      "4   <fr> Quel film est resté le plus rentable à v...   \n",
      "\n",
      "                                                  it  \\\n",
      "0   <it> Quale attore era stata la prima scelta d...   \n",
      "1           <it> Qual è il lago più lungo del mondo?   \n",
      "2   <it> Chi era un membro della squadra olimpica...   \n",
      "3   <it> Quanti premi Pulitzer ha vinto Colson Wh...   \n",
      "4   <it> Quale film ha registrato maggiori incass...   \n",
      "\n",
      "                                                  ja  \n",
      "0   <ja> 映画トワイライトでエドワードカレンを演じた、ステファニー・メイヤーが初めて選んだ...  \n",
      "1                               <ja> 世界で一番長い湖はなんですか？  \n",
      "2   <ja> メリーランド州ボルチモアで生まれ、2004年オリンピックのアメリカ代表男子水泳チ...  \n",
      "3           <ja> コルソンホワイトヘッドが獲得したピューリッツァー賞の数はいくつですか？  \n",
      "4   <ja> \"『ジュラシックワールド』とライオンキング』では、どちらが興行収入は多かったですか？\"  \n"
     ]
    }
   ],
   "source": [
    "multilingual_df = pd.DataFrame(columns=['q_id', 'en', 'ar', 'de', 'es', 'fr', 'it', 'ja'])\n",
    "langs = ['ar', 'de', 'es', 'fr', 'it', 'ja']\n",
    "ids_in_all = []\n",
    "\n",
    "def id_in_all(question_id:str, languages:list=langs, exists_in_all:bool=True, write:bool=False):\n",
    "    for lang in languages:\n",
    "        if question_id not in lang_files[lang].id.values:\n",
    "            exists_in_all = False\n",
    "            return exists_in_all\n",
    "    \n",
    "    if write:\n",
    "        row_data = {'q_id': question_id}\n",
    "        \n",
    "        en_text = lang_files['es'].loc[lang_files['es']['id'] == question_id, 'source'].iloc[0]\n",
    "        row_data['en'] = en_text\n",
    "        \n",
    "        for lang in langs:\n",
    "            target_text = lang_files[lang].loc[lang_files[lang]['id'] == question_id, 'target'].iloc[0]\n",
    "            row_data[lang] = ' <' + lang + '> ' + target_text\n",
    "        \n",
    "        multilingual_df.loc[len(multilingual_df)] = row_data\n",
    "    \n",
    "\n",
    "for id in lang_files['es'].id.values:\n",
    "    id_in_all(id, write=True)\n",
    "\n",
    "print(multilingual_df.head())"
   ]
  },
  {
   "cell_type": "code",
   "execution_count": 84,
   "metadata": {},
   "outputs": [
    {
     "name": "stdout",
     "output_type": "stream",
     "text": [
      "\n",
      "First few rows:\n",
      "                                                  en  \\\n",
      "0  Which actor was Stephenie Meyer's first choice...   \n",
      "1             What is the longest lake in the world?   \n",
      "2  Who was a member of the 2004 U.S. Olympic men'...   \n",
      "3  How many Pulitzer Prizes has Colson Whitehead ...   \n",
      "4  Which movie had a higher lifetime gross, Juras...   \n",
      "\n",
      "                                            combined  \n",
      "0   <ar> مَن الممثل الذي وقع عليه الاختيار الأول ...  \n",
      "1   <ar> ما أطول بحيرة في العالم؟  <de> Welcher S...  \n",
      "2   <ar> مَن كان عضوًا في فريق الولايات المتحدة ا...  \n",
      "3   <ar> كم عدد جوائز \"البوليتزر\" التي فاز بها كو...  \n",
      "4   <ar> أي فيلم حصل على إيرادات أعلى طول الحياة،...  \n"
     ]
    }
   ],
   "source": [
    "columns_to_combine = langs\n",
    "multilingual_df['combined'] = multilingual_df[columns_to_combine].astype(str).agg(' '.join, axis=1)\n",
    "\n",
    "# Keep only 'en' and 'combined' columns\n",
    "multilingual_df = multilingual_df[['en', 'combined']]\n",
    "\n",
    "print(\"\\nFirst few rows:\")\n",
    "print(multilingual_df.head())"
   ]
  },
  {
   "cell_type": "code",
   "execution_count": 85,
   "metadata": {},
   "outputs": [],
   "source": [
    "multilingual_df.to_csv('../data/multilingual.csv', index=True)"
   ]
  }
 ],
 "metadata": {
  "kernelspec": {
   "display_name": "myenv",
   "language": "python",
   "name": "python3"
  },
  "language_info": {
   "codemirror_mode": {
    "name": "ipython",
    "version": 3
   },
   "file_extension": ".py",
   "mimetype": "text/x-python",
   "name": "python",
   "nbconvert_exporter": "python",
   "pygments_lexer": "ipython3",
   "version": "3.11.10"
  }
 },
 "nbformat": 4,
 "nbformat_minor": 2
}
